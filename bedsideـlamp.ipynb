{
  "nbformat": 4,
  "nbformat_minor": 0,
  "metadata": {
    "colab": {
      "name": "bedsideـlamp.ipynb",
      "provenance": [],
      "collapsed_sections": [
        "XxpxIWCBDUML",
        "6JtzgCdIDf9t",
        "xUzRPkaYDl7u",
        "hKDjvbZTDsGM"
      ]
    },
    "kernelspec": {
      "name": "python3",
      "display_name": "Python 3"
    },
    "language_info": {
      "name": "python"
    }
  },
  "cells": [
    {
      "cell_type": "code",
      "metadata": {
        "colab": {
          "base_uri": "https://localhost:8080/"
        },
        "id": "4eNp4H4HgVIc",
        "outputId": "bd1d7822-9c8c-47c1-cb2f-f53362cd0938"
      },
      "source": [
        "pip install jdatetime"
      ],
      "execution_count": null,
      "outputs": [
        {
          "output_type": "stream",
          "text": [
            "Collecting jdatetime\n",
            "  Downloading https://files.pythonhosted.org/packages/fa/a9/2c9f8ff1c126835e497e23f2a5a69fcd59ea2ca11030db310bdbd8c6fe76/jdatetime-3.6.2.tar.gz\n",
            "Building wheels for collected packages: jdatetime\n",
            "  Building wheel for jdatetime (setup.py) ... \u001b[?25l\u001b[?25hdone\n",
            "  Created wheel for jdatetime: filename=jdatetime-3.6.2-cp37-none-any.whl size=11783 sha256=b7bc0c883303b987e8bddd0ee52755a5e730bef283803e64e6c0db12bdef1e10\n",
            "  Stored in directory: /root/.cache/pip/wheels/ea/7d/d2/92961c39b79a0556bc4ce7c20185fdab84969ecb8fe2e5e8cc\n",
            "Successfully built jdatetime\n",
            "Installing collected packages: jdatetime\n",
            "Successfully installed jdatetime-3.6.2\n"
          ],
          "name": "stdout"
        }
      ]
    },
    {
      "cell_type": "markdown",
      "metadata": {
        "id": "XxpxIWCBDUML"
      },
      "source": [
        "# Preprocessing"
      ]
    },
    {
      "cell_type": "code",
      "metadata": {
        "id": "P4PQsdGMZLz4"
      },
      "source": [
        "import numpy as np\n",
        "import pandas as pd\n",
        "import jdatetime"
      ],
      "execution_count": null,
      "outputs": []
    },
    {
      "cell_type": "code",
      "metadata": {
        "colab": {
          "base_uri": "https://localhost:8080/"
        },
        "id": "FJMtkzH4aCw2",
        "outputId": "848afb97-1f78-4985-a1dc-5dd4e9d39152"
      },
      "source": [
        "from google.colab import drive\n",
        "drive.mount('/content/gdrive')"
      ],
      "execution_count": null,
      "outputs": [
        {
          "output_type": "stream",
          "text": [
            "Drive already mounted at /content/gdrive; to attempt to forcibly remount, call drive.mount(\"/content/gdrive\", force_remount=True).\n"
          ],
          "name": "stdout"
        }
      ]
    },
    {
      "cell_type": "code",
      "metadata": {
        "id": "99Bx-KnqZgTX"
      },
      "source": [
        "# read csv file and convert to dataframe\n",
        "data = pd.read_csv('/content/gdrive/My Drive/Datasets/train.csv')"
      ],
      "execution_count": null,
      "outputs": []
    },
    {
      "cell_type": "code",
      "metadata": {
        "colab": {
          "base_uri": "https://localhost:8080/"
        },
        "id": "i2S5KYe4bG_7",
        "outputId": "15a324ca-3a0d-45a1-e02b-3acecff3f5d6"
      },
      "source": [
        "# get some information about dataframe like Dtype or number of non-null for each column\n",
        "data.info()"
      ],
      "execution_count": null,
      "outputs": [
        {
          "output_type": "stream",
          "text": [
            "<class 'pandas.core.frame.DataFrame'>\n",
            "RangeIndex: 114 entries, 0 to 113\n",
            "Data columns (total 2 columns):\n",
            " #   Column  Non-Null Count  Dtype  \n",
            "---  ------  --------------  -----  \n",
            " 0   date    114 non-null    object \n",
            " 1   sale    114 non-null    float64\n",
            "dtypes: float64(1), object(1)\n",
            "memory usage: 1.9+ KB\n"
          ],
          "name": "stdout"
        }
      ]
    },
    {
      "cell_type": "code",
      "metadata": {
        "id": "iJtLyszLbK3V"
      },
      "source": [
        "# extract new feature from data['date']\n",
        "# new features like : year, month, day, weekday, week, weekend, yearday, season\n",
        "\n",
        "def make_new_time_features(df):\n",
        "  data = df.copy()\n",
        "  year = []\n",
        "  month = []\n",
        "  day = []\n",
        "  weekday = []\n",
        "  week = []\n",
        "  weekend = []\n",
        "  yearday = []\n",
        "  season = []\n",
        "\n",
        "  for date in df['date']:\n",
        "\n",
        "    splited_date = date.split('-')\n",
        "    y = int(splited_date[0])  # split year from date and convert the type to 'int' : for example 1399 from 1399-05-30\n",
        "    m = int(splited_date[1])  # split month from date and convert the type to 'int' : for example 5 from 1399-05-30\n",
        "    d = int(splited_date[2])  # split day from date and convert the type to 'int' : for example 30 from 1399-05-30\n",
        "\n",
        "    # extract season from month --> [1-3] : spring(1), [4-6] : summer(2), [7-9] : fall(3), [10-12] : winter(4)\n",
        "    if 1 <= m <= 3 :\n",
        "      s = 1\n",
        "    elif 4 <= m <= 6 :\n",
        "      s = 2\n",
        "    elif 7 <= m <= 9 :\n",
        "      s = 3\n",
        "    elif 10 <= m <= 12 :\n",
        "      s = 4\n",
        "    # add day, month, year, season to arrays\n",
        "    year.append(y)\n",
        "    month.append(m)\n",
        "    day.append(d)\n",
        "    season.append(s)\n",
        "\n",
        "    # convert date to jdatetime(jalali date time) for extracting more information like weekday, weeknumber, weekday, yearday\n",
        "    fa_date = jdatetime.datetime(y, m, d, local='fa_IR')\n",
        "\n",
        "    wd = fa_date.isoweekday() # day of week : a number between 1 to 7\n",
        "\n",
        "    we = 0  # is weekend or not\n",
        "    if wd == 6 or wd == 7:\n",
        "      we = 1\n",
        "    \n",
        "    w = fa_date.weeknumber()  # which week of year : a number between 1 to 52\n",
        "    yd = fa_date.yday()   # which day of year : a number between 1 to 366\n",
        "\n",
        "    # add week, weekday, weekend, yearday to arrays\n",
        "    week.append(w)\n",
        "    weekday.append(wd)\n",
        "    weekend.append(we)\n",
        "    yearday.append(yd)\n",
        "    \n",
        "  # add new features extracted above to dataframe\n",
        "  data['year'] = np.array(year)\n",
        "  data['month'] = np.array(month)\n",
        "  data['day'] = np.array(day)\n",
        "  data['season'] = np.array(season)\n",
        "  data['week'] = np.array(week)\n",
        "  data['weekday'] = np.array(weekday)\n",
        "  data['weekend'] = np.array(weekend)\n",
        "  data['yearday'] = np.array(yearday)\n",
        "\n",
        "  return data\n",
        "\n",
        "new_data = make_new_time_features(data)"
      ],
      "execution_count": null,
      "outputs": []
    },
    {
      "cell_type": "code",
      "metadata": {
        "colab": {
          "base_uri": "https://localhost:8080/",
          "height": 419
        },
        "id": "DmyQ3sqJmuVO",
        "outputId": "78103f8f-9131-4440-8c7e-97ef4c8aaa23"
      },
      "source": [
        "new_data"
      ],
      "execution_count": null,
      "outputs": [
        {
          "output_type": "execute_result",
          "data": {
            "text/html": [
              "<div>\n",
              "<style scoped>\n",
              "    .dataframe tbody tr th:only-of-type {\n",
              "        vertical-align: middle;\n",
              "    }\n",
              "\n",
              "    .dataframe tbody tr th {\n",
              "        vertical-align: top;\n",
              "    }\n",
              "\n",
              "    .dataframe thead th {\n",
              "        text-align: right;\n",
              "    }\n",
              "</style>\n",
              "<table border=\"1\" class=\"dataframe\">\n",
              "  <thead>\n",
              "    <tr style=\"text-align: right;\">\n",
              "      <th></th>\n",
              "      <th>date</th>\n",
              "      <th>sale</th>\n",
              "      <th>year</th>\n",
              "      <th>month</th>\n",
              "      <th>day</th>\n",
              "      <th>season</th>\n",
              "      <th>week</th>\n",
              "      <th>weekday</th>\n",
              "      <th>weekend</th>\n",
              "      <th>yearday</th>\n",
              "    </tr>\n",
              "  </thead>\n",
              "  <tbody>\n",
              "    <tr>\n",
              "      <th>0</th>\n",
              "      <td>1399-05-30</td>\n",
              "      <td>384.0</td>\n",
              "      <td>1399</td>\n",
              "      <td>5</td>\n",
              "      <td>30</td>\n",
              "      <td>2</td>\n",
              "      <td>23</td>\n",
              "      <td>6</td>\n",
              "      <td>1</td>\n",
              "      <td>154</td>\n",
              "    </tr>\n",
              "    <tr>\n",
              "      <th>1</th>\n",
              "      <td>1399-05-31</td>\n",
              "      <td>393.0</td>\n",
              "      <td>1399</td>\n",
              "      <td>5</td>\n",
              "      <td>31</td>\n",
              "      <td>2</td>\n",
              "      <td>23</td>\n",
              "      <td>7</td>\n",
              "      <td>1</td>\n",
              "      <td>155</td>\n",
              "    </tr>\n",
              "    <tr>\n",
              "      <th>2</th>\n",
              "      <td>1399-06-01</td>\n",
              "      <td>414.0</td>\n",
              "      <td>1399</td>\n",
              "      <td>6</td>\n",
              "      <td>1</td>\n",
              "      <td>2</td>\n",
              "      <td>24</td>\n",
              "      <td>1</td>\n",
              "      <td>0</td>\n",
              "      <td>156</td>\n",
              "    </tr>\n",
              "    <tr>\n",
              "      <th>3</th>\n",
              "      <td>1399-06-02</td>\n",
              "      <td>410.0</td>\n",
              "      <td>1399</td>\n",
              "      <td>6</td>\n",
              "      <td>2</td>\n",
              "      <td>2</td>\n",
              "      <td>24</td>\n",
              "      <td>2</td>\n",
              "      <td>0</td>\n",
              "      <td>157</td>\n",
              "    </tr>\n",
              "    <tr>\n",
              "      <th>4</th>\n",
              "      <td>1399-06-03</td>\n",
              "      <td>398.0</td>\n",
              "      <td>1399</td>\n",
              "      <td>6</td>\n",
              "      <td>3</td>\n",
              "      <td>2</td>\n",
              "      <td>24</td>\n",
              "      <td>3</td>\n",
              "      <td>0</td>\n",
              "      <td>158</td>\n",
              "    </tr>\n",
              "    <tr>\n",
              "      <th>...</th>\n",
              "      <td>...</td>\n",
              "      <td>...</td>\n",
              "      <td>...</td>\n",
              "      <td>...</td>\n",
              "      <td>...</td>\n",
              "      <td>...</td>\n",
              "      <td>...</td>\n",
              "      <td>...</td>\n",
              "      <td>...</td>\n",
              "      <td>...</td>\n",
              "    </tr>\n",
              "    <tr>\n",
              "      <th>109</th>\n",
              "      <td>1399-09-17</td>\n",
              "      <td>262.0</td>\n",
              "      <td>1399</td>\n",
              "      <td>9</td>\n",
              "      <td>17</td>\n",
              "      <td>3</td>\n",
              "      <td>39</td>\n",
              "      <td>3</td>\n",
              "      <td>0</td>\n",
              "      <td>263</td>\n",
              "    </tr>\n",
              "    <tr>\n",
              "      <th>110</th>\n",
              "      <td>1399-09-18</td>\n",
              "      <td>306.0</td>\n",
              "      <td>1399</td>\n",
              "      <td>9</td>\n",
              "      <td>18</td>\n",
              "      <td>3</td>\n",
              "      <td>39</td>\n",
              "      <td>4</td>\n",
              "      <td>0</td>\n",
              "      <td>264</td>\n",
              "    </tr>\n",
              "    <tr>\n",
              "      <th>111</th>\n",
              "      <td>1399-09-19</td>\n",
              "      <td>292.0</td>\n",
              "      <td>1399</td>\n",
              "      <td>9</td>\n",
              "      <td>19</td>\n",
              "      <td>3</td>\n",
              "      <td>39</td>\n",
              "      <td>5</td>\n",
              "      <td>0</td>\n",
              "      <td>265</td>\n",
              "    </tr>\n",
              "    <tr>\n",
              "      <th>112</th>\n",
              "      <td>1399-09-20</td>\n",
              "      <td>307.0</td>\n",
              "      <td>1399</td>\n",
              "      <td>9</td>\n",
              "      <td>20</td>\n",
              "      <td>3</td>\n",
              "      <td>39</td>\n",
              "      <td>6</td>\n",
              "      <td>1</td>\n",
              "      <td>266</td>\n",
              "    </tr>\n",
              "    <tr>\n",
              "      <th>113</th>\n",
              "      <td>1399-09-21</td>\n",
              "      <td>379.0</td>\n",
              "      <td>1399</td>\n",
              "      <td>9</td>\n",
              "      <td>21</td>\n",
              "      <td>3</td>\n",
              "      <td>39</td>\n",
              "      <td>7</td>\n",
              "      <td>1</td>\n",
              "      <td>267</td>\n",
              "    </tr>\n",
              "  </tbody>\n",
              "</table>\n",
              "<p>114 rows × 10 columns</p>\n",
              "</div>"
            ],
            "text/plain": [
              "           date   sale  year  month  ...  week  weekday  weekend  yearday\n",
              "0    1399-05-30  384.0  1399      5  ...    23        6        1      154\n",
              "1    1399-05-31  393.0  1399      5  ...    23        7        1      155\n",
              "2    1399-06-01  414.0  1399      6  ...    24        1        0      156\n",
              "3    1399-06-02  410.0  1399      6  ...    24        2        0      157\n",
              "4    1399-06-03  398.0  1399      6  ...    24        3        0      158\n",
              "..          ...    ...   ...    ...  ...   ...      ...      ...      ...\n",
              "109  1399-09-17  262.0  1399      9  ...    39        3        0      263\n",
              "110  1399-09-18  306.0  1399      9  ...    39        4        0      264\n",
              "111  1399-09-19  292.0  1399      9  ...    39        5        0      265\n",
              "112  1399-09-20  307.0  1399      9  ...    39        6        1      266\n",
              "113  1399-09-21  379.0  1399      9  ...    39        7        1      267\n",
              "\n",
              "[114 rows x 10 columns]"
            ]
          },
          "metadata": {
            "tags": []
          },
          "execution_count": 153
        }
      ]
    },
    {
      "cell_type": "code",
      "metadata": {
        "colab": {
          "base_uri": "https://localhost:8080/"
        },
        "id": "9Fx4QvyicM0x",
        "outputId": "39f2efa1-23e7-48f2-8728-10c5eadc3acd"
      },
      "source": [
        "new_data['year'].value_counts()"
      ],
      "execution_count": null,
      "outputs": [
        {
          "output_type": "execute_result",
          "data": {
            "text/plain": [
              "1399    114\n",
              "Name: year, dtype: int64"
            ]
          },
          "metadata": {
            "tags": []
          },
          "execution_count": 154
        }
      ]
    },
    {
      "cell_type": "code",
      "metadata": {
        "id": "vLSr4K69ua7-"
      },
      "source": [
        "# all years are 1399, so there is nothing special for the model to learn from"
      ],
      "execution_count": null,
      "outputs": []
    },
    {
      "cell_type": "code",
      "metadata": {
        "id": "z_MRjn3WrDsx"
      },
      "source": [
        "droped_data = new_data.drop(['date', 'year'], axis=1)\n",
        "droped_data = droped_data.sample(frac=1)"
      ],
      "execution_count": null,
      "outputs": []
    },
    {
      "cell_type": "code",
      "metadata": {
        "id": "ZA24SQlks5Fm"
      },
      "source": [
        "# define X and y\n",
        "X = droped_data.drop(['sale'], axis=1)\n",
        "y = droped_data['sale']"
      ],
      "execution_count": null,
      "outputs": []
    },
    {
      "cell_type": "code",
      "metadata": {
        "id": "sotlTJMNsCDG"
      },
      "source": [
        "# Normalizing\n",
        "from sklearn.preprocessing import Normalizer\n",
        "normalizer = Normalizer()\n",
        "normalizer.fit(X)\n",
        "Normalized_X = pd.DataFrame(normalizer.transform(X), columns=X.columns)"
      ],
      "execution_count": null,
      "outputs": []
    },
    {
      "cell_type": "code",
      "metadata": {
        "colab": {
          "base_uri": "https://localhost:8080/"
        },
        "id": "kGBgD0HhbCKq",
        "outputId": "975dbead-21de-474e-efc1-e28ab223a936"
      },
      "source": [
        "# calculate mutual_info score\n",
        "from sklearn.feature_selection import mutual_info_regression\n",
        "\n",
        "def make_mi_scores(X, y):\n",
        "    mi_scores = mutual_info_regression(X, y)\n",
        "    mi_scores = pd.Series(mi_scores, name=\"MI Scores\", index=X.columns)   # convert mi_scores to Pandas Series\n",
        "    mi_scores = mi_scores.sort_values(ascending=False)  # sort mi_scores from large to small\n",
        "    return mi_scores\n",
        "\n",
        "# calculate mutual_info score for every type of rescaled_data in 'normal_data' dictionary\n",
        "mi_score = make_mi_scores(Normalized_X, y)\n",
        "print(mi_score)"
      ],
      "execution_count": null,
      "outputs": [
        {
          "output_type": "stream",
          "text": [
            "season     0.577497\n",
            "month      0.297702\n",
            "yearday    0.263293\n",
            "day        0.208554\n",
            "weekend    0.139002\n",
            "weekday    0.000000\n",
            "week       0.000000\n",
            "Name: MI Scores, dtype: float64\n"
          ],
          "name": "stdout"
        }
      ]
    },
    {
      "cell_type": "code",
      "metadata": {
        "colab": {
          "base_uri": "https://localhost:8080/",
          "height": 234
        },
        "id": "o49XmxMabwcL",
        "outputId": "3614cb94-00b0-45bb-8dde-9cb16337121e"
      },
      "source": [
        "# plot mi_scores\n",
        "import matplotlib.pyplot as plt \n",
        "\n",
        "def plot_mi_scores(scores):\n",
        "    scores = scores.sort_values(ascending=True)\n",
        "    width = np.arange(len(scores))\n",
        "    ticks = list(scores.index)\n",
        "    plt.barh(width, scores)\n",
        "    plt.yticks(width, ticks)\n",
        "    plt.title(\"Mutual Information Scores\")\n",
        "\n",
        "# plot mi_scores for 3 types of rescaled_data\n",
        "plt.figure(dpi=100, figsize=(5, 2))\n",
        "plt.show(plot_mi_scores(mi_score))"
      ],
      "execution_count": null,
      "outputs": [
        {
          "output_type": "display_data",
          "data": {
            "image/png": "[encoded data removed]",
            "text/plain": [
              "<Figure size 500x200 with 1 Axes>"
            ]
          },
          "metadata": {
            "tags": [],
            "needs_background": "light"
          }
        }
      ]
    },
    {
      "cell_type": "code",
      "metadata": {
        "id": "CR4Hc9trjofv"
      },
      "source": [
        "# drop all features with zero MI-score : 'weekday', 'week'\n",
        "\n",
        "X = Normalized_X.drop(['weekday', 'week'], axis=1)"
      ],
      "execution_count": null,
      "outputs": []
    },
    {
      "cell_type": "code",
      "metadata": {
        "colab": {
          "base_uri": "https://localhost:8080/",
          "height": 419
        },
        "id": "u3XduCPdpznA",
        "outputId": "452c6eb3-531a-438c-e3d5-2cd76e12422b"
      },
      "source": [
        "X"
      ],
      "execution_count": null,
      "outputs": [
        {
          "output_type": "execute_result",
          "data": {
            "text/html": [
              "<div>\n",
              "<style scoped>\n",
              "    .dataframe tbody tr th:only-of-type {\n",
              "        vertical-align: middle;\n",
              "    }\n",
              "\n",
              "    .dataframe tbody tr th {\n",
              "        vertical-align: top;\n",
              "    }\n",
              "\n",
              "    .dataframe thead th {\n",
              "        text-align: right;\n",
              "    }\n",
              "</style>\n",
              "<table border=\"1\" class=\"dataframe\">\n",
              "  <thead>\n",
              "    <tr style=\"text-align: right;\">\n",
              "      <th></th>\n",
              "      <th>month</th>\n",
              "      <th>day</th>\n",
              "      <th>season</th>\n",
              "      <th>weekend</th>\n",
              "      <th>yearday</th>\n",
              "    </tr>\n",
              "  </thead>\n",
              "  <tbody>\n",
              "    <tr>\n",
              "      <th>0</th>\n",
              "      <td>0.035273</td>\n",
              "      <td>0.035273</td>\n",
              "      <td>0.013227</td>\n",
              "      <td>0.004409</td>\n",
              "      <td>0.987647</td>\n",
              "    </tr>\n",
              "    <tr>\n",
              "      <th>1</th>\n",
              "      <td>0.037982</td>\n",
              "      <td>0.006330</td>\n",
              "      <td>0.012661</td>\n",
              "      <td>0.000000</td>\n",
              "      <td>0.987540</td>\n",
              "    </tr>\n",
              "    <tr>\n",
              "      <th>2</th>\n",
              "      <td>0.033446</td>\n",
              "      <td>0.117059</td>\n",
              "      <td>0.011149</td>\n",
              "      <td>0.005574</td>\n",
              "      <td>0.981069</td>\n",
              "    </tr>\n",
              "    <tr>\n",
              "      <th>3</th>\n",
              "      <td>0.034315</td>\n",
              "      <td>0.060052</td>\n",
              "      <td>0.012868</td>\n",
              "      <td>0.000000</td>\n",
              "      <td>0.986570</td>\n",
              "    </tr>\n",
              "    <tr>\n",
              "      <th>4</th>\n",
              "      <td>0.034446</td>\n",
              "      <td>0.045928</td>\n",
              "      <td>0.011482</td>\n",
              "      <td>0.000000</td>\n",
              "      <td>0.987448</td>\n",
              "    </tr>\n",
              "    <tr>\n",
              "      <th>...</th>\n",
              "      <td>...</td>\n",
              "      <td>...</td>\n",
              "      <td>...</td>\n",
              "      <td>...</td>\n",
              "      <td>...</td>\n",
              "    </tr>\n",
              "    <tr>\n",
              "      <th>109</th>\n",
              "      <td>0.033086</td>\n",
              "      <td>0.090988</td>\n",
              "      <td>0.012407</td>\n",
              "      <td>0.004136</td>\n",
              "      <td>0.984320</td>\n",
              "    </tr>\n",
              "    <tr>\n",
              "      <th>110</th>\n",
              "      <td>0.032493</td>\n",
              "      <td>0.105602</td>\n",
              "      <td>0.012185</td>\n",
              "      <td>0.000000</td>\n",
              "      <td>0.982912</td>\n",
              "    </tr>\n",
              "    <tr>\n",
              "      <th>111</th>\n",
              "      <td>0.033843</td>\n",
              "      <td>0.071917</td>\n",
              "      <td>0.012691</td>\n",
              "      <td>0.000000</td>\n",
              "      <td>0.985688</td>\n",
              "    </tr>\n",
              "    <tr>\n",
              "      <th>112</th>\n",
              "      <td>0.033237</td>\n",
              "      <td>0.087248</td>\n",
              "      <td>0.012464</td>\n",
              "      <td>0.000000</td>\n",
              "      <td>0.984658</td>\n",
              "    </tr>\n",
              "    <tr>\n",
              "      <th>113</th>\n",
              "      <td>0.034320</td>\n",
              "      <td>0.073544</td>\n",
              "      <td>0.014709</td>\n",
              "      <td>0.000000</td>\n",
              "      <td>0.985484</td>\n",
              "    </tr>\n",
              "  </tbody>\n",
              "</table>\n",
              "<p>114 rows × 5 columns</p>\n",
              "</div>"
            ],
            "text/plain": [
              "        month       day    season   weekend   yearday\n",
              "0    0.035273  0.035273  0.013227  0.004409  0.987647\n",
              "1    0.037982  0.006330  0.012661  0.000000  0.987540\n",
              "2    0.033446  0.117059  0.011149  0.005574  0.981069\n",
              "3    0.034315  0.060052  0.012868  0.000000  0.986570\n",
              "4    0.034446  0.045928  0.011482  0.000000  0.987448\n",
              "..        ...       ...       ...       ...       ...\n",
              "109  0.033086  0.090988  0.012407  0.004136  0.984320\n",
              "110  0.032493  0.105602  0.012185  0.000000  0.982912\n",
              "111  0.033843  0.071917  0.012691  0.000000  0.985688\n",
              "112  0.033237  0.087248  0.012464  0.000000  0.984658\n",
              "113  0.034320  0.073544  0.014709  0.000000  0.985484\n",
              "\n",
              "[114 rows x 5 columns]"
            ]
          },
          "metadata": {
            "tags": []
          },
          "execution_count": 161
        }
      ]
    },
    {
      "cell_type": "markdown",
      "metadata": {
        "id": "6JtzgCdIDf9t"
      },
      "source": [
        "# Model Selection"
      ]
    },
    {
      "cell_type": "code",
      "metadata": {
        "id": "wTLYQhtYLzQI"
      },
      "source": [
        "# define function for calculate 'Symmetric mean absolute percentage error'\n",
        "\n",
        "def smape(A, F):\n",
        "    return 100/len(A) * np.sum(2 * np.abs(F - A) / (np.abs(A) + np.abs(F)))"
      ],
      "execution_count": null,
      "outputs": []
    },
    {
      "cell_type": "code",
      "metadata": {
        "id": "_ZmmfHZZUTsO"
      },
      "source": [
        "# define func for calculate score-function\n",
        "\n",
        "def smape_score(y_true, y_pred, **kwargs):\n",
        "  smape_value = smape(y_true, y_pred)\n",
        "  if smape_value > 17:\n",
        "    return 0\n",
        "  else:\n",
        "    return (((17 - smape_value) / 17) ** 0.35) * 200"
      ],
      "execution_count": null,
      "outputs": []
    },
    {
      "cell_type": "code",
      "metadata": {
        "id": "nEujmQ-7X5wQ"
      },
      "source": [
        "from sklearn.model_selection import cross_validate\n",
        "from sklearn.metrics.scorer import make_scorer\n",
        "\n",
        "# define smape_score function as a scorer for passing to cross_validate\n",
        "smape_scorer = make_scorer(smape_score, greater_is_better=True)   \n",
        "models_score = dict()   # dictionary for save all models' score"
      ],
      "execution_count": null,
      "outputs": []
    },
    {
      "cell_type": "code",
      "metadata": {
        "id": "CB8cwetEWqiK"
      },
      "source": [
        "from sklearn.model_selection import RandomizedSearchCV\n",
        "\n",
        "# function for tuning models' hyperparameters\n",
        "def find_best_params(model, x, y, params):\n",
        "  searchCV = RandomizedSearchCV(model, param_distributions=params)\n",
        "  searchCV.fit(x, y)\n",
        "  return searchCV.best_params_"
      ],
      "execution_count": null,
      "outputs": []
    },
    {
      "cell_type": "code",
      "metadata": {
        "id": "walW2RWyBxDp"
      },
      "source": [
        "# run cross_validate and return train_score, test_score, best parameters\n",
        "def return_scores(model, X, y):\n",
        "  cross_val = cross_validate(model, X, y, cv=5, scoring=smape_scorer, return_train_score=True)\n",
        "  return {'train_score' : cross_val['train_score'], \n",
        "                       'test_score' : cross_val['test_score'],\n",
        "                       'params' : best_params}"
      ],
      "execution_count": null,
      "outputs": []
    },
    {
      "cell_type": "code",
      "metadata": {
        "id": "NeHMP6beswDL"
      },
      "source": [
        "from sklearn.neighbors import KNeighborsRegressor\n",
        "\n",
        "#Hyper Parameters Set\n",
        "params = {'n_neighbors':[2,3,4,5,6,7,8,9,10],\n",
        "          'leaf_size':[1,2,3,5,6,7],\n",
        "          'weights':['uniform', 'distance'],\n",
        "          'algorithm':['auto', 'ball_tree','kd_tree','brute']}\n",
        "\n",
        "#Making models with hyper parameters sets\n",
        "best_params = find_best_params(KNeighborsRegressor(), X, y, params)\n",
        "model = KNeighborsRegressor(**best_params)\n",
        "models_score['KNN'] = return_scores(model, X, y)"
      ],
      "execution_count": null,
      "outputs": []
    },
    {
      "cell_type": "code",
      "metadata": {
        "id": "NJQlI2jQytFY"
      },
      "source": [
        "from sklearn.ensemble import RandomForestRegressor\n",
        "\n",
        "#hyper parameters set\n",
        "params = {'n_estimators' : [100, 500, 900, 1100, 1500],\n",
        "          'max_features' : ['auto', 'sqrt', 'log2', None],\n",
        "          'min_samples_leaf':[1,2,3,4,5,6,7,8,9,10,11],\n",
        "          'min_samples_split':[2,3,4,5,6,7,8,9,10,11,12], \n",
        "          'random_state':[42]}\n",
        "\n",
        "# fit model and save scores\n",
        "best_params = find_best_params(RandomForestRegressor(), X, y, params)\n",
        "model = RandomForestRegressor(**best_params)\n",
        "models_score['RForest'] = return_scores(model, X, y)"
      ],
      "execution_count": null,
      "outputs": []
    },
    {
      "cell_type": "code",
      "metadata": {
        "id": "G3ULk2ew2iSB"
      },
      "source": [
        "from sklearn.tree import DecisionTreeRegressor\n",
        "\n",
        "#Hyper Parameters Set\n",
        "params = {'max_features': ['auto', 'sqrt', 'log2', None],\n",
        "          'min_samples_split': [2,3,4,5,6,7,8,9,10,11,12], \n",
        "          'min_samples_leaf':[1,2,3,4,5,6,7,8,9,10,11],\n",
        "          'random_state':[42]}\n",
        "\n",
        "# fit model and save scores\n",
        "best_params = find_best_params(DecisionTreeRegressor(), X, y, params)\n",
        "model = DecisionTreeRegressor(**best_params)\n",
        "models_score['DTree'] = return_scores(model, X, y)"
      ],
      "execution_count": null,
      "outputs": []
    },
    {
      "cell_type": "code",
      "metadata": {
        "id": "WXoVqXLdfdt5"
      },
      "source": [
        "from sklearn.ensemble import GradientBoostingRegressor\n",
        "\n",
        "params = {'n_estimators' : [100, 500, 900, 1100, 1500],\n",
        "          'min_samples_leaf' : [1,2,3,4,5,6,7,8,9,10,11] ,\n",
        "          'min_samples_split' : [2,3,4,5,6,7,8,9,10,11,12],\n",
        "          'max_features' : ['auto', 'sqrt', 'log2', None],\n",
        "          'random_state':[42]}\n",
        "\n",
        "# fit model and save scores\n",
        "best_params = find_best_params(GradientBoostingRegressor(), X, y, params)\n",
        "model = GradientBoostingRegressor(**best_params)\n",
        "models_score['XGB'] = return_scores(model, X, y)"
      ],
      "execution_count": null,
      "outputs": []
    },
    {
      "cell_type": "code",
      "metadata": {
        "id": "_DEaYyLIc5r6"
      },
      "source": [
        "from sklearn.linear_model import LinearRegression\n",
        "\n",
        "# fit model and save scores\n",
        "model = LinearRegression()\n",
        "models_score['Linear'] = return_scores(model, X, y)"
      ],
      "execution_count": null,
      "outputs": []
    },
    {
      "cell_type": "code",
      "metadata": {
        "colab": {
          "base_uri": "https://localhost:8080/",
          "height": 391
        },
        "id": "0Fk62uyHQ9KE",
        "outputId": "b760776b-767e-44d3-862c-926cbf677dcd"
      },
      "source": [
        "# compare all models' score with boxplot\n",
        "\n",
        "fig, ax = plt.subplots(figsize=(16,6))\n",
        "ax.set_title('Models cross validation scores')\n",
        "\n",
        "values = [x['test_score'] for x in models_score.values()] + [x['train_score'] for x in models_score.values()]\n",
        "ax.boxplot(values, showmeans=True)\n",
        "keys = [x+'_test' for x in models_score.keys()] + [x+'_train' for x in models_score.keys()]\n",
        "ax.set_xticklabels(keys);"
      ],
      "execution_count": null,
      "outputs": [
        {
          "output_type": "display_data",
          "data": {
            "image/png": "[encoded data removed]",
            "text/plain": [
              "<Figure size 1152x432 with 1 Axes>"
            ]
          },
          "metadata": {
            "tags": [],
            "needs_background": "light"
          }
        }
      ]
    },
    {
      "cell_type": "markdown",
      "metadata": {
        "id": "xUzRPkaYDl7u"
      },
      "source": [
        "# Fine-tune and Fit Model"
      ]
    },
    {
      "cell_type": "code",
      "metadata": {
        "colab": {
          "base_uri": "https://localhost:8080/",
          "height": 297
        },
        "id": "TslU1JygyXk_",
        "outputId": "76b6c7cf-0313-4c99-d44f-fad83d3ee717"
      },
      "source": [
        "# fine-tune GradientBoostingRegressor\n",
        "\n",
        "from sklearn.model_selection import train_test_split\n",
        "\n",
        "params = models_score['XGB']['params'].copy()\n",
        "max_depths = range(1, 30)\n",
        "\n",
        "xgb_test_scores = []\n",
        "xgb_train_scores = []\n",
        "\n",
        "# We use a loop through the range 1 to 30\n",
        "# We append the scores in the list\n",
        "xtrain, xtest, ytrain, ytest = train_test_split(X, y, test_size=0.2, random_state=42)\n",
        "\n",
        "for d in max_depths:\n",
        "    xgb = GradientBoostingRegressor(**params, max_depth=d)\n",
        "    xgb.fit(xtrain, ytrain)\n",
        "\n",
        "    y_pred = dtree.predict(xtrain)\n",
        "    dtree_train_scores.append(smape_score(ytrain, y_pred))\n",
        "\n",
        "    y_pred = dtree.predict(xtest)\n",
        "    dtree_test_scores.append(smape_score(ytest, y_pred))\n",
        "\n",
        "\n",
        "\n",
        "# plot the relationship between K and testing smape-score\n",
        "plt.plot(max_depths, dtree_train_scores, label='train score')\n",
        "plt.plot(max_depths, dtree_test_scores, label='test score')\n",
        "\n",
        "mx = dtree_test_scores.index(max(dtree_test_scores))+1\n",
        "plt.axvline(x=mx, color='red', linestyle='--')\n",
        "plt.scatter(mx, max(dtree_test_scores), color='red')\n",
        "\n",
        "plt.legend()\n",
        "plt.xlabel('Value of max_depth for Dtree')\n",
        "plt.ylabel('Smap Score');\n",
        "print(mx)"
      ],
      "execution_count": null,
      "outputs": [
        {
          "output_type": "stream",
          "text": [
            "3\n"
          ],
          "name": "stdout"
        },
        {
          "output_type": "display_data",
          "data": {
            "image/png": "[encoded data removed]",
            "text/plain": [
              "<Figure size 432x288 with 1 Axes>"
            ]
          },
          "metadata": {
            "tags": [],
            "needs_background": "light"
          }
        }
      ]
    },
    {
      "cell_type": "code",
      "metadata": {
        "colab": {
          "base_uri": "https://localhost:8080/"
        },
        "id": "K5bnT6AmUcBE",
        "outputId": "037b3f48-2d51-46ee-e9c6-2fa712ef998b"
      },
      "source": [
        "params['max_depth'] = mx  # mx is the best max_depth for GradientBoostingRegressor\n",
        "model = GradientBoostingRegressor(**params)\n",
        "model.fit(X, y)"
      ],
      "execution_count": null,
      "outputs": [
        {
          "output_type": "execute_result",
          "data": {
            "text/plain": [
              "GradientBoostingRegressor(alpha=0.9, ccp_alpha=0.0, criterion='friedman_mse',\n",
              "                          init=None, learning_rate=0.1, loss='ls', max_depth=3,\n",
              "                          max_features='auto', max_leaf_nodes=None,\n",
              "                          min_impurity_decrease=0.0, min_impurity_split=None,\n",
              "                          min_samples_leaf=6, min_samples_split=5,\n",
              "                          min_weight_fraction_leaf=0.0, n_estimators=1500,\n",
              "                          n_iter_no_change=None, presort='deprecated',\n",
              "                          random_state=42, subsample=1.0, tol=0.0001,\n",
              "                          validation_fraction=0.1, verbose=0, warm_start=False)"
            ]
          },
          "metadata": {
            "tags": []
          },
          "execution_count": 174
        }
      ]
    },
    {
      "cell_type": "markdown",
      "metadata": {
        "id": "hKDjvbZTDsGM"
      },
      "source": [
        "# Prediction"
      ]
    },
    {
      "cell_type": "code",
      "metadata": {
        "id": "D7ngyIMaj9MK"
      },
      "source": [
        "# read and preprocess test data\n",
        "output = pd.read_csv('/content/gdrive/My Drive/Datasets/output3.csv')\n",
        "test_data = make_new_time_features(output)\n",
        "test_data.drop(['sale', 'year', 'date']+['weekday', 'week'], axis=1, inplace=True)\n",
        "test_data=pd.DataFrame(normalizer.transform(test_data))"
      ],
      "execution_count": null,
      "outputs": []
    },
    {
      "cell_type": "code",
      "metadata": {
        "colab": {
          "base_uri": "https://localhost:8080/",
          "height": 979
        },
        "id": "EIx0eJrZMnmU",
        "outputId": "b2ad9616-145b-42db-8b83-9074ce5e7c9f"
      },
      "source": [
        "test_data"
      ],
      "execution_count": null,
      "outputs": [
        {
          "output_type": "execute_result",
          "data": {
            "text/html": [
              "<div>\n",
              "<style scoped>\n",
              "    .dataframe tbody tr th:only-of-type {\n",
              "        vertical-align: middle;\n",
              "    }\n",
              "\n",
              "    .dataframe tbody tr th {\n",
              "        vertical-align: top;\n",
              "    }\n",
              "\n",
              "    .dataframe thead th {\n",
              "        text-align: right;\n",
              "    }\n",
              "</style>\n",
              "<table border=\"1\" class=\"dataframe\">\n",
              "  <thead>\n",
              "    <tr style=\"text-align: right;\">\n",
              "      <th></th>\n",
              "      <th>0</th>\n",
              "      <th>1</th>\n",
              "      <th>2</th>\n",
              "      <th>3</th>\n",
              "      <th>4</th>\n",
              "    </tr>\n",
              "  </thead>\n",
              "  <tbody>\n",
              "    <tr>\n",
              "      <th>0</th>\n",
              "      <td>0.033449</td>\n",
              "      <td>0.081763</td>\n",
              "      <td>0.011150</td>\n",
              "      <td>0.000000</td>\n",
              "      <td>0.996028</td>\n",
              "    </tr>\n",
              "    <tr>\n",
              "      <th>1</th>\n",
              "      <td>0.033315</td>\n",
              "      <td>0.085138</td>\n",
              "      <td>0.011105</td>\n",
              "      <td>0.000000</td>\n",
              "      <td>0.995750</td>\n",
              "    </tr>\n",
              "    <tr>\n",
              "      <th>2</th>\n",
              "      <td>0.033182</td>\n",
              "      <td>0.088486</td>\n",
              "      <td>0.011061</td>\n",
              "      <td>0.000000</td>\n",
              "      <td>0.995463</td>\n",
              "    </tr>\n",
              "    <tr>\n",
              "      <th>3</th>\n",
              "      <td>0.033050</td>\n",
              "      <td>0.091805</td>\n",
              "      <td>0.011017</td>\n",
              "      <td>0.000000</td>\n",
              "      <td>0.995167</td>\n",
              "    </tr>\n",
              "    <tr>\n",
              "      <th>4</th>\n",
              "      <td>0.032918</td>\n",
              "      <td>0.095097</td>\n",
              "      <td>0.010973</td>\n",
              "      <td>0.000000</td>\n",
              "      <td>0.994863</td>\n",
              "    </tr>\n",
              "    <tr>\n",
              "      <th>5</th>\n",
              "      <td>0.032787</td>\n",
              "      <td>0.098361</td>\n",
              "      <td>0.010929</td>\n",
              "      <td>0.003643</td>\n",
              "      <td>0.994544</td>\n",
              "    </tr>\n",
              "    <tr>\n",
              "      <th>6</th>\n",
              "      <td>0.032657</td>\n",
              "      <td>0.101599</td>\n",
              "      <td>0.010886</td>\n",
              "      <td>0.003629</td>\n",
              "      <td>0.994223</td>\n",
              "    </tr>\n",
              "    <tr>\n",
              "      <th>7</th>\n",
              "      <td>0.032528</td>\n",
              "      <td>0.104811</td>\n",
              "      <td>0.010843</td>\n",
              "      <td>0.000000</td>\n",
              "      <td>0.993901</td>\n",
              "    </tr>\n",
              "    <tr>\n",
              "      <th>8</th>\n",
              "      <td>0.032399</td>\n",
              "      <td>0.107996</td>\n",
              "      <td>0.010800</td>\n",
              "      <td>0.000000</td>\n",
              "      <td>0.993565</td>\n",
              "    </tr>\n",
              "    <tr>\n",
              "      <th>9</th>\n",
              "      <td>0.036074</td>\n",
              "      <td>0.003607</td>\n",
              "      <td>0.014429</td>\n",
              "      <td>0.000000</td>\n",
              "      <td>0.999238</td>\n",
              "    </tr>\n",
              "    <tr>\n",
              "      <th>10</th>\n",
              "      <td>0.035943</td>\n",
              "      <td>0.007189</td>\n",
              "      <td>0.014377</td>\n",
              "      <td>0.000000</td>\n",
              "      <td>0.999225</td>\n",
              "    </tr>\n",
              "    <tr>\n",
              "      <th>11</th>\n",
              "      <td>0.035814</td>\n",
              "      <td>0.010744</td>\n",
              "      <td>0.014325</td>\n",
              "      <td>0.000000</td>\n",
              "      <td>0.999198</td>\n",
              "    </tr>\n",
              "    <tr>\n",
              "      <th>12</th>\n",
              "      <td>0.035684</td>\n",
              "      <td>0.014274</td>\n",
              "      <td>0.014274</td>\n",
              "      <td>0.003568</td>\n",
              "      <td>0.999153</td>\n",
              "    </tr>\n",
              "    <tr>\n",
              "      <th>13</th>\n",
              "      <td>0.035555</td>\n",
              "      <td>0.017778</td>\n",
              "      <td>0.014222</td>\n",
              "      <td>0.003556</td>\n",
              "      <td>0.999102</td>\n",
              "    </tr>\n",
              "    <tr>\n",
              "      <th>14</th>\n",
              "      <td>0.035427</td>\n",
              "      <td>0.021256</td>\n",
              "      <td>0.014171</td>\n",
              "      <td>0.000000</td>\n",
              "      <td>0.999046</td>\n",
              "    </tr>\n",
              "    <tr>\n",
              "      <th>15</th>\n",
              "      <td>0.035299</td>\n",
              "      <td>0.024710</td>\n",
              "      <td>0.014120</td>\n",
              "      <td>0.000000</td>\n",
              "      <td>0.998971</td>\n",
              "    </tr>\n",
              "    <tr>\n",
              "      <th>16</th>\n",
              "      <td>0.035172</td>\n",
              "      <td>0.028138</td>\n",
              "      <td>0.014069</td>\n",
              "      <td>0.000000</td>\n",
              "      <td>0.998886</td>\n",
              "    </tr>\n",
              "    <tr>\n",
              "      <th>17</th>\n",
              "      <td>0.035045</td>\n",
              "      <td>0.031541</td>\n",
              "      <td>0.014018</td>\n",
              "      <td>0.000000</td>\n",
              "      <td>0.998790</td>\n",
              "    </tr>\n",
              "    <tr>\n",
              "      <th>18</th>\n",
              "      <td>0.034919</td>\n",
              "      <td>0.034919</td>\n",
              "      <td>0.013968</td>\n",
              "      <td>0.000000</td>\n",
              "      <td>0.998682</td>\n",
              "    </tr>\n",
              "    <tr>\n",
              "      <th>19</th>\n",
              "      <td>0.034793</td>\n",
              "      <td>0.038272</td>\n",
              "      <td>0.013917</td>\n",
              "      <td>0.003479</td>\n",
              "      <td>0.998558</td>\n",
              "    </tr>\n",
              "    <tr>\n",
              "      <th>20</th>\n",
              "      <td>0.034668</td>\n",
              "      <td>0.041601</td>\n",
              "      <td>0.013867</td>\n",
              "      <td>0.003467</td>\n",
              "      <td>0.998430</td>\n",
              "    </tr>\n",
              "    <tr>\n",
              "      <th>21</th>\n",
              "      <td>0.034543</td>\n",
              "      <td>0.044906</td>\n",
              "      <td>0.013817</td>\n",
              "      <td>0.000000</td>\n",
              "      <td>0.998298</td>\n",
              "    </tr>\n",
              "    <tr>\n",
              "      <th>22</th>\n",
              "      <td>0.034419</td>\n",
              "      <td>0.048187</td>\n",
              "      <td>0.013768</td>\n",
              "      <td>0.000000</td>\n",
              "      <td>0.998150</td>\n",
              "    </tr>\n",
              "    <tr>\n",
              "      <th>23</th>\n",
              "      <td>0.034295</td>\n",
              "      <td>0.051443</td>\n",
              "      <td>0.013718</td>\n",
              "      <td>0.000000</td>\n",
              "      <td>0.997993</td>\n",
              "    </tr>\n",
              "    <tr>\n",
              "      <th>24</th>\n",
              "      <td>0.034172</td>\n",
              "      <td>0.054675</td>\n",
              "      <td>0.013669</td>\n",
              "      <td>0.000000</td>\n",
              "      <td>0.997826</td>\n",
              "    </tr>\n",
              "    <tr>\n",
              "      <th>25</th>\n",
              "      <td>0.034049</td>\n",
              "      <td>0.057884</td>\n",
              "      <td>0.013620</td>\n",
              "      <td>0.000000</td>\n",
              "      <td>0.997650</td>\n",
              "    </tr>\n",
              "    <tr>\n",
              "      <th>26</th>\n",
              "      <td>0.033927</td>\n",
              "      <td>0.061069</td>\n",
              "      <td>0.013571</td>\n",
              "      <td>0.003393</td>\n",
              "      <td>0.997459</td>\n",
              "    </tr>\n",
              "    <tr>\n",
              "      <th>27</th>\n",
              "      <td>0.033806</td>\n",
              "      <td>0.064231</td>\n",
              "      <td>0.013522</td>\n",
              "      <td>0.003381</td>\n",
              "      <td>0.997265</td>\n",
              "    </tr>\n",
              "    <tr>\n",
              "      <th>28</th>\n",
              "      <td>0.033685</td>\n",
              "      <td>0.067369</td>\n",
              "      <td>0.013474</td>\n",
              "      <td>0.000000</td>\n",
              "      <td>0.997068</td>\n",
              "    </tr>\n",
              "    <tr>\n",
              "      <th>29</th>\n",
              "      <td>0.033564</td>\n",
              "      <td>0.070485</td>\n",
              "      <td>0.013426</td>\n",
              "      <td>0.000000</td>\n",
              "      <td>0.996858</td>\n",
              "    </tr>\n",
              "  </tbody>\n",
              "</table>\n",
              "</div>"
            ],
            "text/plain": [
              "           0         1         2         3         4\n",
              "0   0.033449  0.081763  0.011150  0.000000  0.996028\n",
              "1   0.033315  0.085138  0.011105  0.000000  0.995750\n",
              "2   0.033182  0.088486  0.011061  0.000000  0.995463\n",
              "3   0.033050  0.091805  0.011017  0.000000  0.995167\n",
              "4   0.032918  0.095097  0.010973  0.000000  0.994863\n",
              "5   0.032787  0.098361  0.010929  0.003643  0.994544\n",
              "6   0.032657  0.101599  0.010886  0.003629  0.994223\n",
              "7   0.032528  0.104811  0.010843  0.000000  0.993901\n",
              "8   0.032399  0.107996  0.010800  0.000000  0.993565\n",
              "9   0.036074  0.003607  0.014429  0.000000  0.999238\n",
              "10  0.035943  0.007189  0.014377  0.000000  0.999225\n",
              "11  0.035814  0.010744  0.014325  0.000000  0.999198\n",
              "12  0.035684  0.014274  0.014274  0.003568  0.999153\n",
              "13  0.035555  0.017778  0.014222  0.003556  0.999102\n",
              "14  0.035427  0.021256  0.014171  0.000000  0.999046\n",
              "15  0.035299  0.024710  0.014120  0.000000  0.998971\n",
              "16  0.035172  0.028138  0.014069  0.000000  0.998886\n",
              "17  0.035045  0.031541  0.014018  0.000000  0.998790\n",
              "18  0.034919  0.034919  0.013968  0.000000  0.998682\n",
              "19  0.034793  0.038272  0.013917  0.003479  0.998558\n",
              "20  0.034668  0.041601  0.013867  0.003467  0.998430\n",
              "21  0.034543  0.044906  0.013817  0.000000  0.998298\n",
              "22  0.034419  0.048187  0.013768  0.000000  0.998150\n",
              "23  0.034295  0.051443  0.013718  0.000000  0.997993\n",
              "24  0.034172  0.054675  0.013669  0.000000  0.997826\n",
              "25  0.034049  0.057884  0.013620  0.000000  0.997650\n",
              "26  0.033927  0.061069  0.013571  0.003393  0.997459\n",
              "27  0.033806  0.064231  0.013522  0.003381  0.997265\n",
              "28  0.033685  0.067369  0.013474  0.000000  0.997068\n",
              "29  0.033564  0.070485  0.013426  0.000000  0.996858"
            ]
          },
          "metadata": {
            "tags": []
          },
          "execution_count": 177
        }
      ]
    },
    {
      "cell_type": "code",
      "metadata": {
        "colab": {
          "base_uri": "https://localhost:8080/"
        },
        "id": "8CY2WxiditVb",
        "outputId": "17fef0b3-c72d-497d-dd5c-7dffbad98df0"
      },
      "source": [
        "# model predicted values for test data\n",
        "\n",
        "np.round(model.predict(test_data))"
      ],
      "execution_count": null,
      "outputs": [
        {
          "output_type": "execute_result",
          "data": {
            "text/plain": [
              "array([311., 302., 320., 330., 337., 343., 366., 360., 362., 375., 389.,\n",
              "       395., 408., 422., 419., 442., 441., 374., 384., 385., 393., 388.,\n",
              "       380., 378., 378., 402., 402., 392., 406., 401.])"
            ]
          },
          "metadata": {
            "tags": []
          },
          "execution_count": 178
        }
      ]
    },
    {
      "cell_type": "code",
      "metadata": {
        "id": "a2jYv9GgMPhp"
      },
      "source": [
        "# save predicted values in output\n",
        "output['sale'] = np.round(model.predict(test_data))"
      ],
      "execution_count": null,
      "outputs": []
    },
    {
      "cell_type": "code",
      "metadata": {
        "id": "6ceCaQgwaseJ"
      },
      "source": [
        "# save output as csv\n",
        "output.to_csv('/content/gdrive/My Drive/Datasets/output.csv', index=False)"
      ],
      "execution_count": null,
      "outputs": []
    },
    {
      "cell_type": "code",
      "metadata": {
        "id": "YwMutX9i0XS6"
      },
      "source": [
        ""
      ],
      "execution_count": null,
      "outputs": []
    }
  ]
}